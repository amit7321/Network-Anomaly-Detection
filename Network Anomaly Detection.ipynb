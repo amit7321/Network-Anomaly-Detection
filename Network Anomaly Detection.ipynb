{
  "nbformat": 4,
  "nbformat_minor": 0,
  "metadata": {
    "colab": {
      "name": "Network Anomaly Detection.ipynb",
      "provenance": []
    },
    "kernelspec": {
      "name": "python3",
      "display_name": "Python 3"
    },
    "language_info": {
      "name": "python"
    }
  },
  "cells": [
    {
      "cell_type": "markdown",
      "metadata": {
        "id": "FmO82hJZ6ZmZ"
      },
      "source": [
        "# Importing Libraries"
      ]
    },
    {
      "cell_type": "code",
      "metadata": {
        "id": "KlJLILfvvG6V"
      },
      "source": [
        "import numpy as np\n",
        "import matplotlib.pyplot as plt\n",
        "import pandas as pd\n",
        "from sklearn.impute import SimpleImputer\n",
        "from sklearn.compose import ColumnTransformer\n",
        "from sklearn.preprocessing import OneHotEncoder\n",
        "from sklearn.preprocessing import LabelEncoder\n",
        "from sklearn.model_selection import train_test_split\n",
        "from sklearn.preprocessing import StandardScaler\n",
        "from sklearn.feature_selection import VarianceThreshold\n",
        "from sklearn.preprocessing import PolynomialFeatures\n",
        "from sklearn.linear_model import LinearRegression\n",
        "from sklearn.model_selection import cross_val_score\n",
        "from sklearn.metrics import accuracy_score\n",
        "from sklearn.feature_selection import SelectKBest\n",
        "from sklearn.feature_selection import f_classif\n",
        "from sklearn.compose import ColumnTransformer\n",
        "from sklearn.feature_selection import SelectKBest, f_classif\n",
        "\n",
        "import tensorflow as tf\n",
        "from tensorflow import keras\n",
        "import keras\n",
        "from keras.layers import Dense\n",
        "from tensorflow.keras.utils import to_categorical\n",
        "import seaborn\n",
        "from keras.wrappers.scikit_learn import KerasClassifier\n",
        "\n",
        "from imblearn.over_sampling import SMOTE\n",
        "from collections import Counter\n",
        "from matplotlib import pyplot\n",
        "import seaborn as sns\n",
        "from sklearn.metrics import confusion_matrix, accuracy_score, f1_score, roc_auc_score\n",
        "from sklearn import metrics\n",
        "from sklearn.model_selection import cross_val_score\n",
        "\n",
        "from sklearn.tree import DecisionTreeClassifier \n",
        "from sklearn.neighbors import KNeighborsClassifier"
      ],
      "execution_count": 36,
      "outputs": []
    },
    {
      "cell_type": "code",
      "metadata": {
        "colab": {
          "base_uri": "https://localhost:8080/",
          "height": 360
        },
        "id": "kqG3ErEueGI0",
        "outputId": "263adf7e-387c-469d-ba93-8433cfcfcb11"
      },
      "source": [
        "dataset = pd.read_csv('/content/drive/MyDrive/Colab Notebooks/Thesis/02-21-2018.csv',low_memory=False)\n",
        "df = pd.DataFrame(dataset)\n",
        "\n",
        "df.head()"
      ],
      "execution_count": 37,
      "outputs": [
        {
          "output_type": "execute_result",
          "data": {
            "text/html": [
              "<div>\n",
              "<style scoped>\n",
              "    .dataframe tbody tr th:only-of-type {\n",
              "        vertical-align: middle;\n",
              "    }\n",
              "\n",
              "    .dataframe tbody tr th {\n",
              "        vertical-align: top;\n",
              "    }\n",
              "\n",
              "    .dataframe thead th {\n",
              "        text-align: right;\n",
              "    }\n",
              "</style>\n",
              "<table border=\"1\" class=\"dataframe\">\n",
              "  <thead>\n",
              "    <tr style=\"text-align: right;\">\n",
              "      <th></th>\n",
              "      <th>Dst Port</th>\n",
              "      <th>Protocol</th>\n",
              "      <th>Timestamp</th>\n",
              "      <th>Flow Duration</th>\n",
              "      <th>Tot Fwd Pkts</th>\n",
              "      <th>Tot Bwd Pkts</th>\n",
              "      <th>TotLen Fwd Pkts</th>\n",
              "      <th>TotLen Bwd Pkts</th>\n",
              "      <th>Fwd Pkt Len Max</th>\n",
              "      <th>Fwd Pkt Len Min</th>\n",
              "      <th>Fwd Pkt Len Mean</th>\n",
              "      <th>Fwd Pkt Len Std</th>\n",
              "      <th>Bwd Pkt Len Max</th>\n",
              "      <th>Bwd Pkt Len Min</th>\n",
              "      <th>Bwd Pkt Len Mean</th>\n",
              "      <th>Bwd Pkt Len Std</th>\n",
              "      <th>Flow Byts/s</th>\n",
              "      <th>Flow Pkts/s</th>\n",
              "      <th>Flow IAT Mean</th>\n",
              "      <th>Flow IAT Std</th>\n",
              "      <th>Flow IAT Max</th>\n",
              "      <th>Flow IAT Min</th>\n",
              "      <th>Fwd IAT Tot</th>\n",
              "      <th>Fwd IAT Mean</th>\n",
              "      <th>Fwd IAT Std</th>\n",
              "      <th>Fwd IAT Max</th>\n",
              "      <th>Fwd IAT Min</th>\n",
              "      <th>Bwd IAT Tot</th>\n",
              "      <th>Bwd IAT Mean</th>\n",
              "      <th>Bwd IAT Std</th>\n",
              "      <th>Bwd IAT Max</th>\n",
              "      <th>Bwd IAT Min</th>\n",
              "      <th>Fwd PSH Flags</th>\n",
              "      <th>Bwd PSH Flags</th>\n",
              "      <th>Fwd URG Flags</th>\n",
              "      <th>Bwd URG Flags</th>\n",
              "      <th>Fwd Header Len</th>\n",
              "      <th>Bwd Header Len</th>\n",
              "      <th>Fwd Pkts/s</th>\n",
              "      <th>Bwd Pkts/s</th>\n",
              "      <th>Pkt Len Min</th>\n",
              "      <th>Pkt Len Max</th>\n",
              "      <th>Pkt Len Mean</th>\n",
              "      <th>Pkt Len Std</th>\n",
              "      <th>Pkt Len Var</th>\n",
              "      <th>FIN Flag Cnt</th>\n",
              "      <th>SYN Flag Cnt</th>\n",
              "      <th>RST Flag Cnt</th>\n",
              "      <th>PSH Flag Cnt</th>\n",
              "      <th>ACK Flag Cnt</th>\n",
              "      <th>URG Flag Cnt</th>\n",
              "      <th>CWE Flag Count</th>\n",
              "      <th>ECE Flag Cnt</th>\n",
              "      <th>Down/Up Ratio</th>\n",
              "      <th>Pkt Size Avg</th>\n",
              "      <th>Fwd Seg Size Avg</th>\n",
              "      <th>Bwd Seg Size Avg</th>\n",
              "      <th>Fwd Byts/b Avg</th>\n",
              "      <th>Fwd Pkts/b Avg</th>\n",
              "      <th>Fwd Blk Rate Avg</th>\n",
              "      <th>Bwd Byts/b Avg</th>\n",
              "      <th>Bwd Pkts/b Avg</th>\n",
              "      <th>Bwd Blk Rate Avg</th>\n",
              "      <th>Subflow Fwd Pkts</th>\n",
              "      <th>Subflow Fwd Byts</th>\n",
              "      <th>Subflow Bwd Pkts</th>\n",
              "      <th>Subflow Bwd Byts</th>\n",
              "      <th>Init Fwd Win Byts</th>\n",
              "      <th>Init Bwd Win Byts</th>\n",
              "      <th>Fwd Act Data Pkts</th>\n",
              "      <th>Fwd Seg Size Min</th>\n",
              "      <th>Active Mean</th>\n",
              "      <th>Active Std</th>\n",
              "      <th>Active Max</th>\n",
              "      <th>Active Min</th>\n",
              "      <th>Idle Mean</th>\n",
              "      <th>Idle Std</th>\n",
              "      <th>Idle Max</th>\n",
              "      <th>Idle Min</th>\n",
              "      <th>Label</th>\n",
              "    </tr>\n",
              "  </thead>\n",
              "  <tbody>\n",
              "    <tr>\n",
              "      <th>0</th>\n",
              "      <td>80</td>\n",
              "      <td>6</td>\n",
              "      <td>21/02/2018 08:33:25</td>\n",
              "      <td>37953</td>\n",
              "      <td>5</td>\n",
              "      <td>3</td>\n",
              "      <td>135</td>\n",
              "      <td>127</td>\n",
              "      <td>135</td>\n",
              "      <td>0</td>\n",
              "      <td>27.0</td>\n",
              "      <td>60.373835</td>\n",
              "      <td>127</td>\n",
              "      <td>0</td>\n",
              "      <td>42.333333</td>\n",
              "      <td>73.323484</td>\n",
              "      <td>6903.275103</td>\n",
              "      <td>210.787026</td>\n",
              "      <td>5.421857e+03</td>\n",
              "      <td>5.403580e+03</td>\n",
              "      <td>12099</td>\n",
              "      <td>23</td>\n",
              "      <td>37953</td>\n",
              "      <td>9488.25</td>\n",
              "      <td>3.245485e+03</td>\n",
              "      <td>12382</td>\n",
              "      <td>6013</td>\n",
              "      <td>19960</td>\n",
              "      <td>9980.0</td>\n",
              "      <td>13546.75171</td>\n",
              "      <td>19559</td>\n",
              "      <td>401</td>\n",
              "      <td>0</td>\n",
              "      <td>0</td>\n",
              "      <td>0</td>\n",
              "      <td>0</td>\n",
              "      <td>168</td>\n",
              "      <td>104</td>\n",
              "      <td>131.741891</td>\n",
              "      <td>79.045135</td>\n",
              "      <td>0</td>\n",
              "      <td>135</td>\n",
              "      <td>29.111111</td>\n",
              "      <td>57.800183</td>\n",
              "      <td>3340.861111</td>\n",
              "      <td>0</td>\n",
              "      <td>0</td>\n",
              "      <td>0</td>\n",
              "      <td>1</td>\n",
              "      <td>0</td>\n",
              "      <td>0</td>\n",
              "      <td>0</td>\n",
              "      <td>0</td>\n",
              "      <td>0</td>\n",
              "      <td>32.750000</td>\n",
              "      <td>27.0</td>\n",
              "      <td>42.333333</td>\n",
              "      <td>0</td>\n",
              "      <td>0</td>\n",
              "      <td>0</td>\n",
              "      <td>0</td>\n",
              "      <td>0</td>\n",
              "      <td>0</td>\n",
              "      <td>5</td>\n",
              "      <td>135</td>\n",
              "      <td>3</td>\n",
              "      <td>127</td>\n",
              "      <td>29200</td>\n",
              "      <td>219</td>\n",
              "      <td>1</td>\n",
              "      <td>32</td>\n",
              "      <td>0.0</td>\n",
              "      <td>0.0</td>\n",
              "      <td>0</td>\n",
              "      <td>0</td>\n",
              "      <td>0.0</td>\n",
              "      <td>0.0</td>\n",
              "      <td>0</td>\n",
              "      <td>0</td>\n",
              "      <td>Benign</td>\n",
              "    </tr>\n",
              "    <tr>\n",
              "      <th>1</th>\n",
              "      <td>500</td>\n",
              "      <td>17</td>\n",
              "      <td>21/02/2018 08:33:06</td>\n",
              "      <td>117573474</td>\n",
              "      <td>3</td>\n",
              "      <td>0</td>\n",
              "      <td>1500</td>\n",
              "      <td>0</td>\n",
              "      <td>500</td>\n",
              "      <td>500</td>\n",
              "      <td>500.0</td>\n",
              "      <td>0.000000</td>\n",
              "      <td>0</td>\n",
              "      <td>0</td>\n",
              "      <td>0.000000</td>\n",
              "      <td>0.000000</td>\n",
              "      <td>12.757980</td>\n",
              "      <td>0.025516</td>\n",
              "      <td>5.880000e+07</td>\n",
              "      <td>2.380000e+07</td>\n",
              "      <td>75600000</td>\n",
              "      <td>42000000</td>\n",
              "      <td>118000000</td>\n",
              "      <td>58800000.00</td>\n",
              "      <td>2.380000e+07</td>\n",
              "      <td>75600000</td>\n",
              "      <td>42000000</td>\n",
              "      <td>0</td>\n",
              "      <td>0.0</td>\n",
              "      <td>0.00000</td>\n",
              "      <td>0</td>\n",
              "      <td>0</td>\n",
              "      <td>0</td>\n",
              "      <td>0</td>\n",
              "      <td>0</td>\n",
              "      <td>0</td>\n",
              "      <td>24</td>\n",
              "      <td>0</td>\n",
              "      <td>0.025516</td>\n",
              "      <td>0.000000</td>\n",
              "      <td>500</td>\n",
              "      <td>500</td>\n",
              "      <td>500.000000</td>\n",
              "      <td>0.000000</td>\n",
              "      <td>0.000000</td>\n",
              "      <td>0</td>\n",
              "      <td>0</td>\n",
              "      <td>0</td>\n",
              "      <td>0</td>\n",
              "      <td>0</td>\n",
              "      <td>0</td>\n",
              "      <td>0</td>\n",
              "      <td>0</td>\n",
              "      <td>0</td>\n",
              "      <td>666.666667</td>\n",
              "      <td>500.0</td>\n",
              "      <td>0.000000</td>\n",
              "      <td>0</td>\n",
              "      <td>0</td>\n",
              "      <td>0</td>\n",
              "      <td>0</td>\n",
              "      <td>0</td>\n",
              "      <td>0</td>\n",
              "      <td>3</td>\n",
              "      <td>1500</td>\n",
              "      <td>0</td>\n",
              "      <td>0</td>\n",
              "      <td>-1</td>\n",
              "      <td>-1</td>\n",
              "      <td>2</td>\n",
              "      <td>8</td>\n",
              "      <td>0.0</td>\n",
              "      <td>0.0</td>\n",
              "      <td>0</td>\n",
              "      <td>0</td>\n",
              "      <td>58800000.0</td>\n",
              "      <td>23800000.0</td>\n",
              "      <td>75600000</td>\n",
              "      <td>42000000</td>\n",
              "      <td>Benign</td>\n",
              "    </tr>\n",
              "    <tr>\n",
              "      <th>2</th>\n",
              "      <td>500</td>\n",
              "      <td>17</td>\n",
              "      <td>21/02/2018 08:33:06</td>\n",
              "      <td>117573474</td>\n",
              "      <td>3</td>\n",
              "      <td>0</td>\n",
              "      <td>1500</td>\n",
              "      <td>0</td>\n",
              "      <td>500</td>\n",
              "      <td>500</td>\n",
              "      <td>500.0</td>\n",
              "      <td>0.000000</td>\n",
              "      <td>0</td>\n",
              "      <td>0</td>\n",
              "      <td>0.000000</td>\n",
              "      <td>0.000000</td>\n",
              "      <td>12.757980</td>\n",
              "      <td>0.025516</td>\n",
              "      <td>5.880000e+07</td>\n",
              "      <td>2.380000e+07</td>\n",
              "      <td>75600000</td>\n",
              "      <td>42000000</td>\n",
              "      <td>118000000</td>\n",
              "      <td>58800000.00</td>\n",
              "      <td>2.380000e+07</td>\n",
              "      <td>75600000</td>\n",
              "      <td>42000000</td>\n",
              "      <td>0</td>\n",
              "      <td>0.0</td>\n",
              "      <td>0.00000</td>\n",
              "      <td>0</td>\n",
              "      <td>0</td>\n",
              "      <td>0</td>\n",
              "      <td>0</td>\n",
              "      <td>0</td>\n",
              "      <td>0</td>\n",
              "      <td>24</td>\n",
              "      <td>0</td>\n",
              "      <td>0.025516</td>\n",
              "      <td>0.000000</td>\n",
              "      <td>500</td>\n",
              "      <td>500</td>\n",
              "      <td>500.000000</td>\n",
              "      <td>0.000000</td>\n",
              "      <td>0.000000</td>\n",
              "      <td>0</td>\n",
              "      <td>0</td>\n",
              "      <td>0</td>\n",
              "      <td>0</td>\n",
              "      <td>0</td>\n",
              "      <td>0</td>\n",
              "      <td>0</td>\n",
              "      <td>0</td>\n",
              "      <td>0</td>\n",
              "      <td>666.666667</td>\n",
              "      <td>500.0</td>\n",
              "      <td>0.000000</td>\n",
              "      <td>0</td>\n",
              "      <td>0</td>\n",
              "      <td>0</td>\n",
              "      <td>0</td>\n",
              "      <td>0</td>\n",
              "      <td>0</td>\n",
              "      <td>3</td>\n",
              "      <td>1500</td>\n",
              "      <td>0</td>\n",
              "      <td>0</td>\n",
              "      <td>-1</td>\n",
              "      <td>-1</td>\n",
              "      <td>2</td>\n",
              "      <td>8</td>\n",
              "      <td>0.0</td>\n",
              "      <td>0.0</td>\n",
              "      <td>0</td>\n",
              "      <td>0</td>\n",
              "      <td>58800000.0</td>\n",
              "      <td>23800000.0</td>\n",
              "      <td>75600000</td>\n",
              "      <td>42000000</td>\n",
              "      <td>Benign</td>\n",
              "    </tr>\n",
              "    <tr>\n",
              "      <th>3</th>\n",
              "      <td>500</td>\n",
              "      <td>17</td>\n",
              "      <td>21/02/2018 08:33:11</td>\n",
              "      <td>99743998</td>\n",
              "      <td>5</td>\n",
              "      <td>0</td>\n",
              "      <td>2500</td>\n",
              "      <td>0</td>\n",
              "      <td>500</td>\n",
              "      <td>500</td>\n",
              "      <td>500.0</td>\n",
              "      <td>0.000000</td>\n",
              "      <td>0</td>\n",
              "      <td>0</td>\n",
              "      <td>0.000000</td>\n",
              "      <td>0.000000</td>\n",
              "      <td>25.064165</td>\n",
              "      <td>0.050128</td>\n",
              "      <td>2.490000e+07</td>\n",
              "      <td>3.400000e+07</td>\n",
              "      <td>75600000</td>\n",
              "      <td>4000290</td>\n",
              "      <td>99700000</td>\n",
              "      <td>24900000.00</td>\n",
              "      <td>3.400000e+07</td>\n",
              "      <td>75600000</td>\n",
              "      <td>4000290</td>\n",
              "      <td>0</td>\n",
              "      <td>0.0</td>\n",
              "      <td>0.00000</td>\n",
              "      <td>0</td>\n",
              "      <td>0</td>\n",
              "      <td>0</td>\n",
              "      <td>0</td>\n",
              "      <td>0</td>\n",
              "      <td>0</td>\n",
              "      <td>40</td>\n",
              "      <td>0</td>\n",
              "      <td>0.050128</td>\n",
              "      <td>0.000000</td>\n",
              "      <td>500</td>\n",
              "      <td>500</td>\n",
              "      <td>500.000000</td>\n",
              "      <td>0.000000</td>\n",
              "      <td>0.000000</td>\n",
              "      <td>0</td>\n",
              "      <td>0</td>\n",
              "      <td>0</td>\n",
              "      <td>0</td>\n",
              "      <td>0</td>\n",
              "      <td>0</td>\n",
              "      <td>0</td>\n",
              "      <td>0</td>\n",
              "      <td>0</td>\n",
              "      <td>600.000000</td>\n",
              "      <td>500.0</td>\n",
              "      <td>0.000000</td>\n",
              "      <td>0</td>\n",
              "      <td>0</td>\n",
              "      <td>0</td>\n",
              "      <td>0</td>\n",
              "      <td>0</td>\n",
              "      <td>0</td>\n",
              "      <td>5</td>\n",
              "      <td>2500</td>\n",
              "      <td>0</td>\n",
              "      <td>0</td>\n",
              "      <td>-1</td>\n",
              "      <td>-1</td>\n",
              "      <td>4</td>\n",
              "      <td>8</td>\n",
              "      <td>4000290.0</td>\n",
              "      <td>0.0</td>\n",
              "      <td>4000290</td>\n",
              "      <td>4000290</td>\n",
              "      <td>31900000.0</td>\n",
              "      <td>37900000.0</td>\n",
              "      <td>75600000</td>\n",
              "      <td>7200397</td>\n",
              "      <td>Benign</td>\n",
              "    </tr>\n",
              "    <tr>\n",
              "      <th>4</th>\n",
              "      <td>500</td>\n",
              "      <td>17</td>\n",
              "      <td>21/02/2018 08:33:11</td>\n",
              "      <td>99743999</td>\n",
              "      <td>5</td>\n",
              "      <td>0</td>\n",
              "      <td>2500</td>\n",
              "      <td>0</td>\n",
              "      <td>500</td>\n",
              "      <td>500</td>\n",
              "      <td>500.0</td>\n",
              "      <td>0.000000</td>\n",
              "      <td>0</td>\n",
              "      <td>0</td>\n",
              "      <td>0.000000</td>\n",
              "      <td>0.000000</td>\n",
              "      <td>25.064165</td>\n",
              "      <td>0.050128</td>\n",
              "      <td>2.490000e+07</td>\n",
              "      <td>3.400000e+07</td>\n",
              "      <td>75600000</td>\n",
              "      <td>4000286</td>\n",
              "      <td>99700000</td>\n",
              "      <td>24900000.00</td>\n",
              "      <td>3.400000e+07</td>\n",
              "      <td>75600000</td>\n",
              "      <td>4000286</td>\n",
              "      <td>0</td>\n",
              "      <td>0.0</td>\n",
              "      <td>0.00000</td>\n",
              "      <td>0</td>\n",
              "      <td>0</td>\n",
              "      <td>0</td>\n",
              "      <td>0</td>\n",
              "      <td>0</td>\n",
              "      <td>0</td>\n",
              "      <td>40</td>\n",
              "      <td>0</td>\n",
              "      <td>0.050128</td>\n",
              "      <td>0.000000</td>\n",
              "      <td>500</td>\n",
              "      <td>500</td>\n",
              "      <td>500.000000</td>\n",
              "      <td>0.000000</td>\n",
              "      <td>0.000000</td>\n",
              "      <td>0</td>\n",
              "      <td>0</td>\n",
              "      <td>0</td>\n",
              "      <td>0</td>\n",
              "      <td>0</td>\n",
              "      <td>0</td>\n",
              "      <td>0</td>\n",
              "      <td>0</td>\n",
              "      <td>0</td>\n",
              "      <td>600.000000</td>\n",
              "      <td>500.0</td>\n",
              "      <td>0.000000</td>\n",
              "      <td>0</td>\n",
              "      <td>0</td>\n",
              "      <td>0</td>\n",
              "      <td>0</td>\n",
              "      <td>0</td>\n",
              "      <td>0</td>\n",
              "      <td>5</td>\n",
              "      <td>2500</td>\n",
              "      <td>0</td>\n",
              "      <td>0</td>\n",
              "      <td>-1</td>\n",
              "      <td>-1</td>\n",
              "      <td>4</td>\n",
              "      <td>8</td>\n",
              "      <td>4000286.0</td>\n",
              "      <td>0.0</td>\n",
              "      <td>4000286</td>\n",
              "      <td>4000286</td>\n",
              "      <td>31900000.0</td>\n",
              "      <td>37900000.0</td>\n",
              "      <td>75600000</td>\n",
              "      <td>7200399</td>\n",
              "      <td>Benign</td>\n",
              "    </tr>\n",
              "  </tbody>\n",
              "</table>\n",
              "</div>"
            ],
            "text/plain": [
              "   Dst Port  Protocol            Timestamp  ...  Idle Max  Idle Min   Label\n",
              "0        80         6  21/02/2018 08:33:25  ...         0         0  Benign\n",
              "1       500        17  21/02/2018 08:33:06  ...  75600000  42000000  Benign\n",
              "2       500        17  21/02/2018 08:33:06  ...  75600000  42000000  Benign\n",
              "3       500        17  21/02/2018 08:33:11  ...  75600000   7200397  Benign\n",
              "4       500        17  21/02/2018 08:33:11  ...  75600000   7200399  Benign\n",
              "\n",
              "[5 rows x 80 columns]"
            ]
          },
          "metadata": {},
          "execution_count": 37
        }
      ]
    },
    {
      "cell_type": "code",
      "metadata": {
        "colab": {
          "base_uri": "https://localhost:8080/"
        },
        "id": "GtQPYnWZVsKT",
        "outputId": "39fce28b-9242-406c-f5ec-9ba15730ea32"
      },
      "source": [
        "# encoding catagorical data \n",
        "le = LabelEncoder()\n",
        "df['Label'] = le.fit_transform(df['Label'])\n",
        "df['Label'].unique()"
      ],
      "execution_count": 38,
      "outputs": [
        {
          "output_type": "execute_result",
          "data": {
            "text/plain": [
              "array([0, 2, 1])"
            ]
          },
          "metadata": {},
          "execution_count": 38
        }
      ]
    },
    {
      "cell_type": "code",
      "metadata": {
        "id": "6Bq4U7JepNRw"
      },
      "source": [
        "# parsing object dtype to date & time dtype\n",
        "df['Timestamp'] = pd.to_datetime(df['Timestamp'], format=\"%d/%m/%Y %H:%M:%S\")\n",
        "# convert date & time dtype into float dtype\n",
        "df['Timestamp'] = df['Timestamp'].values.astype(float)"
      ],
      "execution_count": 39,
      "outputs": []
    },
    {
      "cell_type": "code",
      "metadata": {
        "id": "AnWb36_Lqi9H",
        "colab": {
          "base_uri": "https://localhost:8080/"
        },
        "outputId": "a8e929d3-14d8-446c-ec6e-ba1c0252174f"
      },
      "source": [
        "# data cleaning\n",
        "np.seterr(divide='ignore', invalid='ignore')\n",
        "def clean_dataset(df):\n",
        "    assert isinstance(df, pd.DataFrame)\n",
        "    df.dropna(inplace=True)\n",
        "    indices_to_keep = ~df.isin([np.nan, np.inf, -np.inf]).any(1)\n",
        "    return df[indices_to_keep].astype(np.float64)\n",
        "\n",
        "df = clean_dataset(df)\n",
        "print(df)"
      ],
      "execution_count": 40,
      "outputs": [
        {
          "output_type": "stream",
          "name": "stdout",
          "text": [
            "         Dst Port  Protocol     Timestamp  ...    Idle Max    Idle Min  Label\n",
            "0            80.0       6.0  1.519202e+18  ...         0.0         0.0    0.0\n",
            "1           500.0      17.0  1.519202e+18  ...  75600000.0  42000000.0    0.0\n",
            "2           500.0      17.0  1.519202e+18  ...  75600000.0  42000000.0    0.0\n",
            "3           500.0      17.0  1.519202e+18  ...  75600000.0   7200397.0    0.0\n",
            "4           500.0      17.0  1.519202e+18  ...  75600000.0   7200399.0    0.0\n",
            "...           ...       ...           ...  ...         ...         ...    ...\n",
            "1048570   55484.0       6.0  1.519180e+18  ...         0.0         0.0    0.0\n",
            "1048571   57624.0       6.0  1.519180e+18  ...         0.0         0.0    0.0\n",
            "1048572   57623.0       6.0  1.519180e+18  ...         0.0         0.0    0.0\n",
            "1048573   57625.0       6.0  1.519180e+18  ...         0.0         0.0    0.0\n",
            "1048574   58120.0       6.0  1.519180e+18  ...         0.0         0.0    0.0\n",
            "\n",
            "[1048575 rows x 80 columns]\n"
          ]
        }
      ]
    },
    {
      "cell_type": "code",
      "metadata": {
        "id": "PN3UGNXDliEY"
      },
      "source": [
        "x = df.iloc[: 200000, :-1].values\n",
        "y = df.iloc[: 200000, -1].values"
      ],
      "execution_count": 41,
      "outputs": []
    },
    {
      "cell_type": "code",
      "metadata": {
        "id": "KDfBLOk31Bpf",
        "colab": {
          "base_uri": "https://localhost:8080/"
        },
        "outputId": "abdfd89b-6924-49eb-d591-a2b6dc6e4b1d"
      },
      "source": [
        "#After applying smote\n",
        "oversample = SMOTE()\n",
        "x, y = oversample.fit_resample(x, y)"
      ],
      "execution_count": 42,
      "outputs": [
        {
          "output_type": "stream",
          "name": "stderr",
          "text": [
            "/usr/local/lib/python3.7/dist-packages/sklearn/utils/deprecation.py:87: FutureWarning: Function safe_indexing is deprecated; safe_indexing is deprecated in version 0.22 and will be removed in version 0.24.\n",
            "  warnings.warn(msg, category=FutureWarning)\n",
            "/usr/local/lib/python3.7/dist-packages/sklearn/utils/deprecation.py:87: FutureWarning: Function safe_indexing is deprecated; safe_indexing is deprecated in version 0.22 and will be removed in version 0.24.\n",
            "  warnings.warn(msg, category=FutureWarning)\n"
          ]
        }
      ]
    },
    {
      "cell_type": "code",
      "metadata": {
        "id": "xltAjCcEQSH-",
        "colab": {
          "base_uri": "https://localhost:8080/",
          "height": 316
        },
        "outputId": "055520f9-c626-46f6-a91d-d1399269b528"
      },
      "source": [
        "# summarize distribution\n",
        "counter = Counter(y)\n",
        "for k,v in counter.items():\n",
        "\tper = v / len(y) * 100\n",
        "\tprint('Class=%d, n=%d (%.3f%%)' % (k, v, per))\n",
        "# plot the distribution\n",
        "pyplot.bar(counter.keys(), counter.values())\n",
        "pyplot.show()"
      ],
      "execution_count": 43,
      "outputs": [
        {
          "output_type": "stream",
          "name": "stdout",
          "text": [
            "Class=0, n=196055 (33.333%)\n",
            "Class=2, n=196055 (33.333%)\n",
            "Class=1, n=196055 (33.333%)\n"
          ]
        },
        {
          "output_type": "display_data",
          "data": {
            "image/png": "[encoded data removed]",
            "text/plain": [
              "<Figure size 432x288 with 1 Axes>"
            ]
          },
          "metadata": {
            "needs_background": "light"
          }
        }
      ]
    },
    {
      "cell_type": "code",
      "metadata": {
        "id": "kDBVnpWLbGrM",
        "colab": {
          "base_uri": "https://localhost:8080/"
        },
        "outputId": "6d4fe74b-4748-4c03-a550-dcb90c51661a"
      },
      "source": [
        "print(x.shape)\n",
        "print(y.shape)"
      ],
      "execution_count": 44,
      "outputs": [
        {
          "output_type": "stream",
          "name": "stdout",
          "text": [
            "(588165, 79)\n",
            "(588165,)\n"
          ]
        }
      ]
    },
    {
      "cell_type": "code",
      "metadata": {
        "colab": {
          "base_uri": "https://localhost:8080/"
        },
        "id": "6EySM-Oqku_k",
        "outputId": "ce8b5f50-45fb-4d34-b624-c90aecd1de9c"
      },
      "source": [
        "df['Label'].value_counts()"
      ],
      "execution_count": 45,
      "outputs": [
        {
          "output_type": "execute_result",
          "data": {
            "text/plain": [
              "1.0    686012\n",
              "0.0    360833\n",
              "2.0      1730\n",
              "Name: Label, dtype: int64"
            ]
          },
          "metadata": {},
          "execution_count": 45
        }
      ]
    },
    {
      "cell_type": "code",
      "metadata": {
        "colab": {
          "base_uri": "https://localhost:8080/"
        },
        "id": "0Y1TeEL7vK-A",
        "outputId": "44836c6c-f793-49be-c720-9c8b8adc9098"
      },
      "source": [
        "# handling missing values\n",
        "imputer = SimpleImputer(missing_values=np.nan, strategy='mean')\n",
        "imputer.fit(x)\n",
        "x=imputer.transform(x)\n",
        "print(x)"
      ],
      "execution_count": 46,
      "outputs": [
        {
          "output_type": "stream",
          "name": "stdout",
          "text": [
            "[[8.00000000e+01 6.00000000e+00 1.51920200e+18 ... 0.00000000e+00\n",
            "  0.00000000e+00 0.00000000e+00]\n",
            " [5.00000000e+02 1.70000000e+01 1.51920199e+18 ... 2.38000000e+07\n",
            "  7.56000000e+07 4.20000000e+07]\n",
            " [5.00000000e+02 1.70000000e+01 1.51920199e+18 ... 2.38000000e+07\n",
            "  7.56000000e+07 4.20000000e+07]\n",
            " ...\n",
            " [8.00000000e+01 1.70000000e+01 1.51920907e+18 ... 0.00000000e+00\n",
            "  0.00000000e+00 0.00000000e+00]\n",
            " [8.00000000e+01 1.70000000e+01 1.51920882e+18 ... 0.00000000e+00\n",
            "  0.00000000e+00 0.00000000e+00]\n",
            " [8.00000000e+01 1.70000000e+01 1.51920968e+18 ... 0.00000000e+00\n",
            "  0.00000000e+00 0.00000000e+00]]\n"
          ]
        }
      ]
    },
    {
      "cell_type": "code",
      "metadata": {
        "id": "M6A8JaxEBvkU"
      },
      "source": [
        "x_train, x_test, y_train, y_test = train_test_split(x, y, test_size = 0.20, random_state = 1) "
      ],
      "execution_count": 47,
      "outputs": []
    },
    {
      "cell_type": "code",
      "metadata": {
        "id": "IU9VD8d9sOIv",
        "colab": {
          "base_uri": "https://localhost:8080/",
          "height": 35
        },
        "outputId": "cddd703f-82fc-4951-c5b6-069c7dfb18ca"
      },
      "source": [
        "# feature scaling\n",
        "sc = StandardScaler()\n",
        "x_train = sc.fit_transform(x_train)\n",
        "x_test = sc.transform(x_test)\n"
      ],
      "execution_count": 48,
      "outputs": [
        {
          "output_type": "execute_result",
          "data": {
            "application/vnd.google.colaboratory.intrinsic+json": {
              "type": "string"
            },
            "text/plain": [
              "'\\nsc = StandardScaler()\\nx_train = sc.fit_transform(x_train)\\nx_test = sc.transform(x_test)\\n\\n'"
            ]
          },
          "metadata": {},
          "execution_count": 48
        }
      ]
    },
    {
      "cell_type": "markdown",
      "metadata": {
        "id": "UYzHmb6iJ_mm"
      },
      "source": [
        "# Constant Feature Removal"
      ]
    },
    {
      "cell_type": "code",
      "metadata": {
        "colab": {
          "base_uri": "https://localhost:8080/"
        },
        "id": "P0EY8fc44UBF",
        "outputId": "0bdf51bc-5575-403d-8771-9c155d2c4eda"
      },
      "source": [
        "# convert the x_train and x_test array into dataframe\n",
        "x_train = pd.DataFrame(x_train)\n",
        "x_test = pd.DataFrame(x_test)\n",
        "print(x_train)\n",
        "print(x_test)"
      ],
      "execution_count": 49,
      "outputs": [
        {
          "output_type": "stream",
          "name": "stdout",
          "text": [
            "          0     1             2   ...            76            77            78\n",
            "0       80.0   6.0  1.519179e+18  ...  0.000000e+00  0.000000e+00  0.000000e+00\n",
            "1       80.0  17.0  1.519209e+18  ...  0.000000e+00  0.000000e+00  0.000000e+00\n",
            "2       80.0   6.0  1.519179e+18  ...  0.000000e+00  0.000000e+00  0.000000e+00\n",
            "3       80.0   6.0  1.519179e+18  ...  0.000000e+00  0.000000e+00  0.000000e+00\n",
            "4       80.0  17.0  1.519209e+18  ...  0.000000e+00  0.000000e+00  0.000000e+00\n",
            "...      ...   ...           ...  ...           ...           ...           ...\n",
            "470527  80.0  17.0  1.519210e+18  ...  1.361036e+07  3.725820e+07  7.115591e+06\n",
            "470528  80.0  17.0  1.519210e+18  ...  0.000000e+00  0.000000e+00  0.000000e+00\n",
            "470529  80.0  17.0  1.519209e+18  ...  0.000000e+00  0.000000e+00  0.000000e+00\n",
            "470530  80.0  17.0  1.519208e+18  ...  0.000000e+00  0.000000e+00  0.000000e+00\n",
            "470531  80.0   6.0  1.519179e+18  ...  0.000000e+00  0.000000e+00  0.000000e+00\n",
            "\n",
            "[470532 rows x 79 columns]\n",
            "                0          1   ...            77            78\n",
            "0        80.000000  17.000000  ...  2.898965e+07  6.004924e+06\n",
            "1        80.000000  17.000000  ...  0.000000e+00  0.000000e+00\n",
            "2       465.949092  10.428772  ...  1.690986e+07  2.898902e+06\n",
            "3        80.000000  17.000000  ...  1.889947e+07  6.042543e+06\n",
            "4        80.000000   6.000000  ...  0.000000e+00  0.000000e+00\n",
            "...            ...        ...  ...           ...           ...\n",
            "117628   80.000000  17.000000  ...  0.000000e+00  0.000000e+00\n",
            "117629   80.000000  17.000000  ...  2.758531e+07  5.017852e+06\n",
            "117630  214.957416   8.409676  ...  9.200579e+06  1.577329e+06\n",
            "117631   80.000000  17.000000  ...  0.000000e+00  0.000000e+00\n",
            "117632   80.000000   6.000000  ...  0.000000e+00  0.000000e+00\n",
            "\n",
            "[117633 rows x 79 columns]\n"
          ]
        }
      ]
    },
    {
      "cell_type": "code",
      "metadata": {
        "colab": {
          "base_uri": "https://localhost:8080/"
        },
        "id": "y8PmB1gwLEEc",
        "outputId": "b48d5991-cda3-441a-ca27-63e6eb8685df"
      },
      "source": [
        "sel = VarianceThreshold(threshold=0)\n",
        "sel.fit(x_train)"
      ],
      "execution_count": 50,
      "outputs": [
        {
          "output_type": "execute_result",
          "data": {
            "text/plain": [
              "VarianceThreshold(threshold=0)"
            ]
          },
          "metadata": {},
          "execution_count": 50
        }
      ]
    },
    {
      "cell_type": "code",
      "metadata": {
        "colab": {
          "base_uri": "https://localhost:8080/"
        },
        "id": "27gGN3DdN1rL",
        "outputId": "2aa45fc1-5b97-4739-c289-8835a4d5c5dc"
      },
      "source": [
        "# number of non-constant features\n",
        "sum(sel.get_support())"
      ],
      "execution_count": 51,
      "outputs": [
        {
          "output_type": "execute_result",
          "data": {
            "text/plain": [
              "69"
            ]
          },
          "metadata": {},
          "execution_count": 51
        }
      ]
    },
    {
      "cell_type": "code",
      "metadata": {
        "colab": {
          "base_uri": "https://localhost:8080/"
        },
        "id": "9HQ0GoqaSHEb",
        "outputId": "bf12e2b3-4e59-46d0-9e46-31e28db0b620"
      },
      "source": [
        "# print the constant features\n",
        "\n",
        "print(len([k for k in x_train.columns\n",
        "           if k not in x_train.columns[sel.get_support()] ]))\n",
        "[k for k in x_train.columns if k not in x_train.columns[sel.get_support()] ]"
      ],
      "execution_count": 52,
      "outputs": [
        {
          "output_type": "stream",
          "name": "stdout",
          "text": [
            "10\n"
          ]
        },
        {
          "output_type": "execute_result",
          "data": {
            "text/plain": [
              "[33, 34, 35, 51, 57, 58, 59, 60, 61, 62]"
            ]
          },
          "metadata": {},
          "execution_count": 52
        }
      ]
    },
    {
      "cell_type": "code",
      "metadata": {
        "colab": {
          "base_uri": "https://localhost:8080/"
        },
        "id": "IRWeGGwH9uiL",
        "outputId": "bd3ae082-863e-4bd8-a789-ce423f12c8c1"
      },
      "source": [
        "# remove constant features \n",
        "\n",
        "x_train = sel.transform(x_train)\n",
        "x_test = sel.transform(x_test)\n",
        "\n",
        "x_train.shape, x_test.shape"
      ],
      "execution_count": 53,
      "outputs": [
        {
          "output_type": "execute_result",
          "data": {
            "text/plain": [
              "((470532, 69), (117633, 69))"
            ]
          },
          "metadata": {},
          "execution_count": 53
        }
      ]
    },
    {
      "cell_type": "code",
      "metadata": {
        "id": "kWU__Ho77lV0"
      },
      "source": [
        "x_train = pd.DataFrame(x_train)\n",
        "x_test = pd.DataFrame(x_test)"
      ],
      "execution_count": 54,
      "outputs": []
    },
    {
      "cell_type": "markdown",
      "metadata": {
        "id": "0H75BYZNWN3c"
      },
      "source": [
        "# Duplicate Feauturs"
      ]
    },
    {
      "cell_type": "code",
      "metadata": {
        "colab": {
          "base_uri": "https://localhost:8080/"
        },
        "id": "UJmjf5QtaY_c",
        "outputId": "644bbeb3-71d6-477a-c412-d626397dcbbc"
      },
      "source": [
        "# Identify duplicate feature\n",
        "duplicate_feature = []\n",
        "for i in range(0, len(x_train.columns)):\n",
        "  if i%10 == 0:\n",
        "    print(i)\n",
        "\n",
        "  col1 = x_train.columns[i]\n",
        "\n",
        "  for col2 in x_train.columns[i+1:]:\n",
        "    if x_train[col1].equals(x_train[col2]):\n",
        "      duplicate_feature.append(col2)"
      ],
      "execution_count": 55,
      "outputs": [
        {
          "output_type": "stream",
          "name": "stdout",
          "text": [
            "0\n",
            "10\n",
            "20\n",
            "30\n",
            "40\n",
            "50\n",
            "60\n"
          ]
        }
      ]
    },
    {
      "cell_type": "code",
      "metadata": {
        "colab": {
          "base_uri": "https://localhost:8080/"
        },
        "id": "g37kYG4HYm2D",
        "outputId": "c7920ae1-1624-4859-df32-91bf17dbe5d1"
      },
      "source": [
        "# show the features which are removed\n",
        "print(len(set(duplicate_feature)))\n",
        "set(duplicate_feature)"
      ],
      "execution_count": 56,
      "outputs": [
        {
          "output_type": "stream",
          "name": "stdout",
          "text": [
            "8\n"
          ]
        },
        {
          "output_type": "execute_result",
          "data": {
            "text/plain": [
              "{43, 48, 51, 52, 53, 54, 55, 56}"
            ]
          },
          "metadata": {},
          "execution_count": 56
        }
      ]
    },
    {
      "cell_type": "code",
      "metadata": {
        "colab": {
          "base_uri": "https://localhost:8080/"
        },
        "id": "5Nw-qJDre1I9",
        "outputId": "fe2efc68-c219-413c-b8ea-cbe7fbee2105"
      },
      "source": [
        "# show the duplicate features\n",
        "duplicated_feat = []\n",
        "for i in range(0, len(x_train.columns)):\n",
        "\n",
        "    col_1 = x_train.columns[i]\n",
        "\n",
        "    for col_2 in x_train.columns[i + 1:]:\n",
        "\n",
        "        # if the features are duplicated\n",
        "        if x_train[col_1].equals(x_train[col_2]):\n",
        "\n",
        "            #print them\n",
        "            print(col_1)\n",
        "            print(col_2)\n",
        "            print()\n",
        "\n",
        "            # and then append the duplicated one to a list\n",
        "            duplicated_feat.append(col_2)"
      ],
      "execution_count": 57,
      "outputs": [
        {
          "output_type": "stream",
          "name": "stdout",
          "text": [
            "4\n",
            "53\n",
            "\n",
            "5\n",
            "55\n",
            "\n",
            "6\n",
            "54\n",
            "\n",
            "7\n",
            "56\n",
            "\n",
            "10\n",
            "51\n",
            "\n",
            "14\n",
            "52\n",
            "\n",
            "32\n",
            "43\n",
            "\n",
            "44\n",
            "48\n",
            "\n"
          ]
        }
      ]
    },
    {
      "cell_type": "code",
      "metadata": {
        "colab": {
          "base_uri": "https://localhost:8080/"
        },
        "id": "Q3EsHMdnc5Jn",
        "outputId": "913f17f9-8688-4da9-d772-115ad8c2bee1"
      },
      "source": [
        "# remove duplicate features\n",
        "x_train = x_train.drop(duplicate_feature,axis=1)\n",
        "x_test = x_test.drop(duplicate_feature,axis=1)\n",
        "\n",
        "x_train.shape, x_test.shape"
      ],
      "execution_count": 58,
      "outputs": [
        {
          "output_type": "execute_result",
          "data": {
            "text/plain": [
              "((470532, 61), (117633, 61))"
            ]
          },
          "metadata": {},
          "execution_count": 58
        }
      ]
    },
    {
      "cell_type": "code",
      "metadata": {
        "colab": {
          "base_uri": "https://localhost:8080/"
        },
        "id": "fC-QlgBBTscQ",
        "outputId": "608e6250-ad0f-4463-fe8c-980dea30a579"
      },
      "source": [
        "print(x_train)\n",
        "print(x_test)"
      ],
      "execution_count": 59,
      "outputs": [
        {
          "output_type": "stream",
          "name": "stdout",
          "text": [
            "          0     1             2   ...            66            67            68\n",
            "0       80.0   6.0  1.519179e+18  ...  0.000000e+00  0.000000e+00  0.000000e+00\n",
            "1       80.0  17.0  1.519209e+18  ...  0.000000e+00  0.000000e+00  0.000000e+00\n",
            "2       80.0   6.0  1.519179e+18  ...  0.000000e+00  0.000000e+00  0.000000e+00\n",
            "3       80.0   6.0  1.519179e+18  ...  0.000000e+00  0.000000e+00  0.000000e+00\n",
            "4       80.0  17.0  1.519209e+18  ...  0.000000e+00  0.000000e+00  0.000000e+00\n",
            "...      ...   ...           ...  ...           ...           ...           ...\n",
            "470527  80.0  17.0  1.519210e+18  ...  1.361036e+07  3.725820e+07  7.115591e+06\n",
            "470528  80.0  17.0  1.519210e+18  ...  0.000000e+00  0.000000e+00  0.000000e+00\n",
            "470529  80.0  17.0  1.519209e+18  ...  0.000000e+00  0.000000e+00  0.000000e+00\n",
            "470530  80.0  17.0  1.519208e+18  ...  0.000000e+00  0.000000e+00  0.000000e+00\n",
            "470531  80.0   6.0  1.519179e+18  ...  0.000000e+00  0.000000e+00  0.000000e+00\n",
            "\n",
            "[470532 rows x 61 columns]\n",
            "                0          1   ...            67            68\n",
            "0        80.000000  17.000000  ...  2.898965e+07  6.004924e+06\n",
            "1        80.000000  17.000000  ...  0.000000e+00  0.000000e+00\n",
            "2       465.949092  10.428772  ...  1.690986e+07  2.898902e+06\n",
            "3        80.000000  17.000000  ...  1.889947e+07  6.042543e+06\n",
            "4        80.000000   6.000000  ...  0.000000e+00  0.000000e+00\n",
            "...            ...        ...  ...           ...           ...\n",
            "117628   80.000000  17.000000  ...  0.000000e+00  0.000000e+00\n",
            "117629   80.000000  17.000000  ...  2.758531e+07  5.017852e+06\n",
            "117630  214.957416   8.409676  ...  9.200579e+06  1.577329e+06\n",
            "117631   80.000000  17.000000  ...  0.000000e+00  0.000000e+00\n",
            "117632   80.000000   6.000000  ...  0.000000e+00  0.000000e+00\n",
            "\n",
            "[117633 rows x 61 columns]\n"
          ]
        }
      ]
    },
    {
      "cell_type": "code",
      "metadata": {
        "colab": {
          "base_uri": "https://localhost:8080/",
          "height": 669
        },
        "id": "YEBroFEvAMkn",
        "outputId": "8b44c8fa-daa0-43c5-b491-5709506f4067"
      },
      "source": [
        "fs_train = SelectKBest(score_func = f_classif).fit(x_train, y_train)\n",
        "score_column = list(fs_train.scores_)\n",
        "cols = list(x_train.columns)\n",
        "top_features = pd.DataFrame(zip(cols, score_column), columns = ['Feature', 'Score'])\n",
        "top20 = top_features.nlargest(20, 'Score')\n",
        "top20 = top20.reset_index(drop = True)\n",
        "\n",
        "top20"
      ],
      "execution_count": 60,
      "outputs": [
        {
          "output_type": "execute_result",
          "data": {
            "text/html": [
              "<div>\n",
              "<style scoped>\n",
              "    .dataframe tbody tr th:only-of-type {\n",
              "        vertical-align: middle;\n",
              "    }\n",
              "\n",
              "    .dataframe tbody tr th {\n",
              "        vertical-align: top;\n",
              "    }\n",
              "\n",
              "    .dataframe thead th {\n",
              "        text-align: right;\n",
              "    }\n",
              "</style>\n",
              "<table border=\"1\" class=\"dataframe\">\n",
              "  <thead>\n",
              "    <tr style=\"text-align: right;\">\n",
              "      <th></th>\n",
              "      <th>Feature</th>\n",
              "      <th>Score</th>\n",
              "    </tr>\n",
              "  </thead>\n",
              "  <tbody>\n",
              "    <tr>\n",
              "      <th>0</th>\n",
              "      <td>2</td>\n",
              "      <td>3.979365e+06</td>\n",
              "    </tr>\n",
              "    <tr>\n",
              "      <th>1</th>\n",
              "      <td>59</td>\n",
              "      <td>3.026416e+06</td>\n",
              "    </tr>\n",
              "    <tr>\n",
              "      <th>2</th>\n",
              "      <td>4</td>\n",
              "      <td>3.026386e+06</td>\n",
              "    </tr>\n",
              "    <tr>\n",
              "      <th>3</th>\n",
              "      <td>33</td>\n",
              "      <td>3.026247e+06</td>\n",
              "    </tr>\n",
              "    <tr>\n",
              "      <th>4</th>\n",
              "      <td>6</td>\n",
              "      <td>3.026064e+06</td>\n",
              "    </tr>\n",
              "    <tr>\n",
              "      <th>5</th>\n",
              "      <td>3</td>\n",
              "      <td>1.168621e+06</td>\n",
              "    </tr>\n",
              "    <tr>\n",
              "      <th>6</th>\n",
              "      <td>57</td>\n",
              "      <td>1.165314e+06</td>\n",
              "    </tr>\n",
              "    <tr>\n",
              "      <th>7</th>\n",
              "      <td>22</td>\n",
              "      <td>1.159788e+06</td>\n",
              "    </tr>\n",
              "    <tr>\n",
              "      <th>8</th>\n",
              "      <td>1</td>\n",
              "      <td>1.093045e+06</td>\n",
              "    </tr>\n",
              "    <tr>\n",
              "      <th>9</th>\n",
              "      <td>67</td>\n",
              "      <td>6.695533e+05</td>\n",
              "    </tr>\n",
              "    <tr>\n",
              "      <th>10</th>\n",
              "      <td>20</td>\n",
              "      <td>6.676064e+05</td>\n",
              "    </tr>\n",
              "    <tr>\n",
              "      <th>11</th>\n",
              "      <td>25</td>\n",
              "      <td>6.608145e+05</td>\n",
              "    </tr>\n",
              "    <tr>\n",
              "      <th>12</th>\n",
              "      <td>60</td>\n",
              "      <td>5.872991e+05</td>\n",
              "    </tr>\n",
              "    <tr>\n",
              "      <th>13</th>\n",
              "      <td>19</td>\n",
              "      <td>4.898010e+05</td>\n",
              "    </tr>\n",
              "    <tr>\n",
              "      <th>14</th>\n",
              "      <td>24</td>\n",
              "      <td>4.700679e+05</td>\n",
              "    </tr>\n",
              "    <tr>\n",
              "      <th>15</th>\n",
              "      <td>65</td>\n",
              "      <td>4.201352e+05</td>\n",
              "    </tr>\n",
              "    <tr>\n",
              "      <th>16</th>\n",
              "      <td>66</td>\n",
              "      <td>3.897675e+05</td>\n",
              "    </tr>\n",
              "    <tr>\n",
              "      <th>17</th>\n",
              "      <td>61</td>\n",
              "      <td>3.704641e+05</td>\n",
              "    </tr>\n",
              "    <tr>\n",
              "      <th>18</th>\n",
              "      <td>63</td>\n",
              "      <td>2.984201e+05</td>\n",
              "    </tr>\n",
              "    <tr>\n",
              "      <th>19</th>\n",
              "      <td>23</td>\n",
              "      <td>2.957938e+05</td>\n",
              "    </tr>\n",
              "  </tbody>\n",
              "</table>\n",
              "</div>"
            ],
            "text/plain": [
              "    Feature         Score\n",
              "0         2  3.979365e+06\n",
              "1        59  3.026416e+06\n",
              "2         4  3.026386e+06\n",
              "3        33  3.026247e+06\n",
              "4         6  3.026064e+06\n",
              "5         3  1.168621e+06\n",
              "6        57  1.165314e+06\n",
              "7        22  1.159788e+06\n",
              "8         1  1.093045e+06\n",
              "9        67  6.695533e+05\n",
              "10       20  6.676064e+05\n",
              "11       25  6.608145e+05\n",
              "12       60  5.872991e+05\n",
              "13       19  4.898010e+05\n",
              "14       24  4.700679e+05\n",
              "15       65  4.201352e+05\n",
              "16       66  3.897675e+05\n",
              "17       61  3.704641e+05\n",
              "18       63  2.984201e+05\n",
              "19       23  2.957938e+05"
            ]
          },
          "metadata": {},
          "execution_count": 60
        }
      ]
    },
    {
      "cell_type": "code",
      "metadata": {
        "colab": {
          "base_uri": "https://localhost:8080/",
          "height": 439
        },
        "id": "rSYLEgFkPObg",
        "outputId": "0bda1f2a-53e2-4fce-ce7f-5c2405d3bb9c"
      },
      "source": [
        "fs_train = SelectKBest(f_classif, k = 20).fit(x_train, y_train)\n",
        "x_train_new = fs_train.transform(x_train)\n",
        "\n",
        "fs_test = SelectKBest(f_classif, k = 20).fit(x_test, y_test)\n",
        "x_test_new = fs_test.transform(x_test)\n",
        "\n",
        "x_train_new = pd.DataFrame(x_train_new)\n",
        "x_test_new = pd.DataFrame(x_test_new)\n",
        "\n",
        "x_train_new"
      ],
      "execution_count": 61,
      "outputs": [
        {
          "output_type": "execute_result",
          "data": {
            "text/html": [
              "<div>\n",
              "<style scoped>\n",
              "    .dataframe tbody tr th:only-of-type {\n",
              "        vertical-align: middle;\n",
              "    }\n",
              "\n",
              "    .dataframe tbody tr th {\n",
              "        vertical-align: top;\n",
              "    }\n",
              "\n",
              "    .dataframe thead th {\n",
              "        text-align: right;\n",
              "    }\n",
              "</style>\n",
              "<table border=\"1\" class=\"dataframe\">\n",
              "  <thead>\n",
              "    <tr style=\"text-align: right;\">\n",
              "      <th></th>\n",
              "      <th>0</th>\n",
              "      <th>1</th>\n",
              "      <th>2</th>\n",
              "      <th>3</th>\n",
              "      <th>4</th>\n",
              "      <th>5</th>\n",
              "      <th>6</th>\n",
              "      <th>7</th>\n",
              "      <th>8</th>\n",
              "      <th>9</th>\n",
              "      <th>10</th>\n",
              "      <th>11</th>\n",
              "      <th>12</th>\n",
              "      <th>13</th>\n",
              "      <th>14</th>\n",
              "      <th>15</th>\n",
              "      <th>16</th>\n",
              "      <th>17</th>\n",
              "      <th>18</th>\n",
              "      <th>19</th>\n",
              "    </tr>\n",
              "  </thead>\n",
              "  <tbody>\n",
              "    <tr>\n",
              "      <th>0</th>\n",
              "      <td>6.0</td>\n",
              "      <td>1.519179e+18</td>\n",
              "      <td>2.574600e+04</td>\n",
              "      <td>3.000000</td>\n",
              "      <td>3.090000e+02</td>\n",
              "      <td>6.633123e+03</td>\n",
              "      <td>1.452800e+04</td>\n",
              "      <td>1.480100e+04</td>\n",
              "      <td>7.400500e+03</td>\n",
              "      <td>1.007981e+04</td>\n",
              "      <td>1.452800e+04</td>\n",
              "      <td>72.000000</td>\n",
              "      <td>65535.0</td>\n",
              "      <td>1.000000</td>\n",
              "      <td>20.0</td>\n",
              "      <td>0.0</td>\n",
              "      <td>0.0</td>\n",
              "      <td>0.000000e+00</td>\n",
              "      <td>0.000000e+00</td>\n",
              "      <td>0.000000e+00</td>\n",
              "    </tr>\n",
              "    <tr>\n",
              "      <th>1</th>\n",
              "      <td>17.0</td>\n",
              "      <td>1.519209e+18</td>\n",
              "      <td>1.199071e+08</td>\n",
              "      <td>111092.084875</td>\n",
              "      <td>3.554947e+06</td>\n",
              "      <td>2.119005e+04</td>\n",
              "      <td>8.564058e+05</td>\n",
              "      <td>1.200000e+08</td>\n",
              "      <td>1.086411e+03</td>\n",
              "      <td>2.119005e+04</td>\n",
              "      <td>8.564058e+05</td>\n",
              "      <td>888736.679001</td>\n",
              "      <td>-1.0</td>\n",
              "      <td>111091.084875</td>\n",
              "      <td>8.0</td>\n",
              "      <td>0.0</td>\n",
              "      <td>0.0</td>\n",
              "      <td>0.000000e+00</td>\n",
              "      <td>0.000000e+00</td>\n",
              "      <td>0.000000e+00</td>\n",
              "    </tr>\n",
              "    <tr>\n",
              "      <th>2</th>\n",
              "      <td>6.0</td>\n",
              "      <td>1.519179e+18</td>\n",
              "      <td>2.636100e+04</td>\n",
              "      <td>3.000000</td>\n",
              "      <td>2.670000e+02</td>\n",
              "      <td>6.716805e+03</td>\n",
              "      <td>1.412200e+04</td>\n",
              "      <td>1.221600e+04</td>\n",
              "      <td>6.108000e+03</td>\n",
              "      <td>8.206681e+03</td>\n",
              "      <td>1.191100e+04</td>\n",
              "      <td>72.000000</td>\n",
              "      <td>65535.0</td>\n",
              "      <td>1.000000</td>\n",
              "      <td>20.0</td>\n",
              "      <td>0.0</td>\n",
              "      <td>0.0</td>\n",
              "      <td>0.000000e+00</td>\n",
              "      <td>0.000000e+00</td>\n",
              "      <td>0.000000e+00</td>\n",
              "    </tr>\n",
              "    <tr>\n",
              "      <th>3</th>\n",
              "      <td>6.0</td>\n",
              "      <td>1.519179e+18</td>\n",
              "      <td>1.182400e+04</td>\n",
              "      <td>3.000000</td>\n",
              "      <td>2.880000e+02</td>\n",
              "      <td>4.515956e+03</td>\n",
              "      <td>1.118400e+04</td>\n",
              "      <td>1.153800e+04</td>\n",
              "      <td>5.769000e+03</td>\n",
              "      <td>7.657966e+03</td>\n",
              "      <td>1.118400e+04</td>\n",
              "      <td>72.000000</td>\n",
              "      <td>65535.0</td>\n",
              "      <td>1.000000</td>\n",
              "      <td>20.0</td>\n",
              "      <td>0.0</td>\n",
              "      <td>0.0</td>\n",
              "      <td>0.000000e+00</td>\n",
              "      <td>0.000000e+00</td>\n",
              "      <td>0.000000e+00</td>\n",
              "    </tr>\n",
              "    <tr>\n",
              "      <th>4</th>\n",
              "      <td>17.0</td>\n",
              "      <td>1.519209e+18</td>\n",
              "      <td>1.198157e+08</td>\n",
              "      <td>111945.821935</td>\n",
              "      <td>3.582266e+06</td>\n",
              "      <td>2.084633e+04</td>\n",
              "      <td>7.722202e+05</td>\n",
              "      <td>1.200000e+08</td>\n",
              "      <td>1.071362e+03</td>\n",
              "      <td>2.084633e+04</td>\n",
              "      <td>7.722202e+05</td>\n",
              "      <td>895566.575477</td>\n",
              "      <td>-1.0</td>\n",
              "      <td>111944.821935</td>\n",
              "      <td>8.0</td>\n",
              "      <td>0.0</td>\n",
              "      <td>0.0</td>\n",
              "      <td>0.000000e+00</td>\n",
              "      <td>0.000000e+00</td>\n",
              "      <td>0.000000e+00</td>\n",
              "    </tr>\n",
              "    <tr>\n",
              "      <th>...</th>\n",
              "      <td>...</td>\n",
              "      <td>...</td>\n",
              "      <td>...</td>\n",
              "      <td>...</td>\n",
              "      <td>...</td>\n",
              "      <td>...</td>\n",
              "      <td>...</td>\n",
              "      <td>...</td>\n",
              "      <td>...</td>\n",
              "      <td>...</td>\n",
              "      <td>...</td>\n",
              "      <td>...</td>\n",
              "      <td>...</td>\n",
              "      <td>...</td>\n",
              "      <td>...</td>\n",
              "      <td>...</td>\n",
              "      <td>...</td>\n",
              "      <td>...</td>\n",
              "      <td>...</td>\n",
              "      <td>...</td>\n",
              "    </tr>\n",
              "    <tr>\n",
              "      <th>470527</th>\n",
              "      <td>17.0</td>\n",
              "      <td>1.519210e+18</td>\n",
              "      <td>6.623631e+07</td>\n",
              "      <td>4.722830</td>\n",
              "      <td>1.511306e+02</td>\n",
              "      <td>1.459069e+07</td>\n",
              "      <td>3.725820e+07</td>\n",
              "      <td>6.623924e+07</td>\n",
              "      <td>1.718371e+07</td>\n",
              "      <td>1.459069e+07</td>\n",
              "      <td>3.725820e+07</td>\n",
              "      <td>37.782640</td>\n",
              "      <td>-1.0</td>\n",
              "      <td>3.722830</td>\n",
              "      <td>8.0</td>\n",
              "      <td>0.0</td>\n",
              "      <td>0.0</td>\n",
              "      <td>1.787637e+07</td>\n",
              "      <td>1.361036e+07</td>\n",
              "      <td>3.725820e+07</td>\n",
              "    </tr>\n",
              "    <tr>\n",
              "      <th>470528</th>\n",
              "      <td>17.0</td>\n",
              "      <td>1.519210e+18</td>\n",
              "      <td>1.104551e+08</td>\n",
              "      <td>124420.486673</td>\n",
              "      <td>3.981456e+06</td>\n",
              "      <td>1.769848e+04</td>\n",
              "      <td>5.859772e+05</td>\n",
              "      <td>1.102729e+08</td>\n",
              "      <td>8.919888e+02</td>\n",
              "      <td>1.769848e+04</td>\n",
              "      <td>5.859772e+05</td>\n",
              "      <td>995363.893387</td>\n",
              "      <td>-1.0</td>\n",
              "      <td>124419.486673</td>\n",
              "      <td>8.0</td>\n",
              "      <td>0.0</td>\n",
              "      <td>0.0</td>\n",
              "      <td>0.000000e+00</td>\n",
              "      <td>0.000000e+00</td>\n",
              "      <td>0.000000e+00</td>\n",
              "    </tr>\n",
              "    <tr>\n",
              "      <th>470529</th>\n",
              "      <td>17.0</td>\n",
              "      <td>1.519209e+18</td>\n",
              "      <td>1.197080e+08</td>\n",
              "      <td>114230.719064</td>\n",
              "      <td>3.655383e+06</td>\n",
              "      <td>2.155245e+04</td>\n",
              "      <td>7.933764e+05</td>\n",
              "      <td>1.200000e+08</td>\n",
              "      <td>1.073409e+03</td>\n",
              "      <td>2.155245e+04</td>\n",
              "      <td>7.933764e+05</td>\n",
              "      <td>913845.752513</td>\n",
              "      <td>-1.0</td>\n",
              "      <td>114229.719064</td>\n",
              "      <td>8.0</td>\n",
              "      <td>0.0</td>\n",
              "      <td>0.0</td>\n",
              "      <td>0.000000e+00</td>\n",
              "      <td>0.000000e+00</td>\n",
              "      <td>0.000000e+00</td>\n",
              "    </tr>\n",
              "    <tr>\n",
              "      <th>470530</th>\n",
              "      <td>17.0</td>\n",
              "      <td>1.519208e+18</td>\n",
              "      <td>1.194974e+08</td>\n",
              "      <td>80380.308087</td>\n",
              "      <td>2.572170e+06</td>\n",
              "      <td>2.966586e+04</td>\n",
              "      <td>9.179666e+05</td>\n",
              "      <td>1.190000e+08</td>\n",
              "      <td>1.486681e+03</td>\n",
              "      <td>2.966586e+04</td>\n",
              "      <td>9.179666e+05</td>\n",
              "      <td>643042.464695</td>\n",
              "      <td>-1.0</td>\n",
              "      <td>80379.308087</td>\n",
              "      <td>8.0</td>\n",
              "      <td>0.0</td>\n",
              "      <td>0.0</td>\n",
              "      <td>0.000000e+00</td>\n",
              "      <td>0.000000e+00</td>\n",
              "      <td>0.000000e+00</td>\n",
              "    </tr>\n",
              "    <tr>\n",
              "      <th>470531</th>\n",
              "      <td>6.0</td>\n",
              "      <td>1.519179e+18</td>\n",
              "      <td>2.540900e+04</td>\n",
              "      <td>2.000000</td>\n",
              "      <td>0.000000e+00</td>\n",
              "      <td>0.000000e+00</td>\n",
              "      <td>2.540900e+04</td>\n",
              "      <td>2.540900e+04</td>\n",
              "      <td>2.540900e+04</td>\n",
              "      <td>0.000000e+00</td>\n",
              "      <td>2.540900e+04</td>\n",
              "      <td>40.000000</td>\n",
              "      <td>32738.0</td>\n",
              "      <td>0.000000</td>\n",
              "      <td>20.0</td>\n",
              "      <td>0.0</td>\n",
              "      <td>0.0</td>\n",
              "      <td>0.000000e+00</td>\n",
              "      <td>0.000000e+00</td>\n",
              "      <td>0.000000e+00</td>\n",
              "    </tr>\n",
              "  </tbody>\n",
              "</table>\n",
              "<p>470532 rows × 20 columns</p>\n",
              "</div>"
            ],
            "text/plain": [
              "          0             1   ...            18            19\n",
              "0        6.0  1.519179e+18  ...  0.000000e+00  0.000000e+00\n",
              "1       17.0  1.519209e+18  ...  0.000000e+00  0.000000e+00\n",
              "2        6.0  1.519179e+18  ...  0.000000e+00  0.000000e+00\n",
              "3        6.0  1.519179e+18  ...  0.000000e+00  0.000000e+00\n",
              "4       17.0  1.519209e+18  ...  0.000000e+00  0.000000e+00\n",
              "...      ...           ...  ...           ...           ...\n",
              "470527  17.0  1.519210e+18  ...  1.361036e+07  3.725820e+07\n",
              "470528  17.0  1.519210e+18  ...  0.000000e+00  0.000000e+00\n",
              "470529  17.0  1.519209e+18  ...  0.000000e+00  0.000000e+00\n",
              "470530  17.0  1.519208e+18  ...  0.000000e+00  0.000000e+00\n",
              "470531   6.0  1.519179e+18  ...  0.000000e+00  0.000000e+00\n",
              "\n",
              "[470532 rows x 20 columns]"
            ]
          },
          "metadata": {},
          "execution_count": 61
        }
      ]
    },
    {
      "cell_type": "code",
      "metadata": {
        "colab": {
          "base_uri": "https://localhost:8080/"
        },
        "id": "5XhIPiGebQsw",
        "outputId": "482d9c68-bc73-4aa5-deed-f8518fa50bc4"
      },
      "source": [
        "# Applying KNN\n",
        "classifier = KNeighborsClassifier(n_neighbors = 10, metric = 'minkowski', p = 2)\n",
        "classifier.fit(x_train_new, y_train)"
      ],
      "execution_count": 62,
      "outputs": [
        {
          "output_type": "execute_result",
          "data": {
            "text/plain": [
              "KNeighborsClassifier(algorithm='auto', leaf_size=30, metric='minkowski',\n",
              "                     metric_params=None, n_jobs=None, n_neighbors=10, p=2,\n",
              "                     weights='uniform')"
            ]
          },
          "metadata": {},
          "execution_count": 62
        }
      ]
    },
    {
      "cell_type": "code",
      "metadata": {
        "colab": {
          "base_uri": "https://localhost:8080/"
        },
        "id": "u3BcWOGPbSgk",
        "outputId": "51d24569-db3b-4869-d291-3b080b09c91d"
      },
      "source": [
        "score = cross_val_score(classifier, x_train_new, y_train, cv = 5)\n",
        "print(\"%.2f Accuracy with the standard deviation %.2f\" % (score.mean(), score.std()))"
      ],
      "execution_count": 63,
      "outputs": [
        {
          "output_type": "stream",
          "name": "stdout",
          "text": [
            "0.96 Accuracy with the standard deviation 0.00\n"
          ]
        }
      ]
    },
    {
      "cell_type": "code",
      "metadata": {
        "colab": {
          "base_uri": "https://localhost:8080/"
        },
        "id": "v2chNR4qbXDu",
        "outputId": "7de418fc-3e37-48da-afae-da3a037ed8d6"
      },
      "source": [
        "y_predict = classifier.predict(x_test_new)\n",
        "print(\"The f1_score of KNN is %.2f\" % f1_score(y_test, y_predict, average='micro'))"
      ],
      "execution_count": 64,
      "outputs": [
        {
          "output_type": "stream",
          "name": "stdout",
          "text": [
            "The f1_score of KNN is 0.97\n"
          ]
        }
      ]
    },
    {
      "cell_type": "code",
      "metadata": {
        "colab": {
          "base_uri": "https://localhost:8080/"
        },
        "id": "FDawo1qW3l79",
        "outputId": "6a1b384e-8440-4b5b-fe95-63bcc47c3c19"
      },
      "source": [
        "# applying Decision Tree\n",
        "classfier = DecisionTreeClassifier(criterion = 'entropy', random_state = 0)\n",
        "classifier.fit(x_train_new, y_train)"
      ],
      "execution_count": 65,
      "outputs": [
        {
          "output_type": "execute_result",
          "data": {
            "text/plain": [
              "KNeighborsClassifier(algorithm='auto', leaf_size=30, metric='minkowski',\n",
              "                     metric_params=None, n_jobs=None, n_neighbors=10, p=2,\n",
              "                     weights='uniform')"
            ]
          },
          "metadata": {},
          "execution_count": 65
        }
      ]
    },
    {
      "cell_type": "code",
      "metadata": {
        "colab": {
          "base_uri": "https://localhost:8080/"
        },
        "id": "pP18wJNDfZl5",
        "outputId": "606a7dd5-56a3-422e-afba-8cc8e550ab94"
      },
      "source": [
        "y_predict = classifier.predict(x_test_new)\n",
        "print(\"The f1_score of Decision tree is %.2f\" % f1_score(y_test, y_predict, average='micro'))"
      ],
      "execution_count": 66,
      "outputs": [
        {
          "output_type": "stream",
          "name": "stdout",
          "text": [
            "The f1_score of Decision tree is 0.97\n"
          ]
        }
      ]
    },
    {
      "cell_type": "code",
      "metadata": {
        "colab": {
          "base_uri": "https://localhost:8080/"
        },
        "id": "x9Ba9eEaR2mg",
        "outputId": "718a0671-256a-490a-8eab-30228ccb09db"
      },
      "source": [
        "score = cross_val_score(classifier, x_train_new, y_train, cv = 5)\n",
        "print(\"%.2f Accuracy with the standard deviation %.2f\" % (score.mean(), score.std()))"
      ],
      "execution_count": 67,
      "outputs": [
        {
          "output_type": "stream",
          "name": "stdout",
          "text": [
            "0.96 Accuracy with the standard deviation 0.00\n"
          ]
        }
      ]
    }
  ]
}